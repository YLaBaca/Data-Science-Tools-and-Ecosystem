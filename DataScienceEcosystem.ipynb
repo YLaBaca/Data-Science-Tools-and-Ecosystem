{
  "metadata": {
    "kernelspec": {
      "name": "python",
      "display_name": "Python (Pyodide)",
      "language": "python"
    },
    "language_info": {
      "codemirror_mode": {
        "name": "python",
        "version": 3
      },
      "file_extension": ".py",
      "mimetype": "text/x-python",
      "name": "python",
      "nbconvert_exporter": "python",
      "pygments_lexer": "ipython3",
      "version": "3.8"
    }
  },
  "nbformat_minor": 5,
  "nbformat": 4,
  "cells": [
    {
      "id": "e1e487b0-fb3c-4f6a-abef-97fa78dd1584",
      "cell_type": "markdown",
      "source": "# Data Science Tools and Ecosystem",
      "metadata": {}
    },
    {
      "id": "2a14f492-d0e5-4c39-903a-5bcab0a3511e",
      "cell_type": "markdown",
      "source": "## En este cuaderno, se resumen las herramientas y ecosistemas de ciencia de datos.",
      "metadata": {}
    },
    {
      "id": "24c71b23-e451-407f-aa18-d27e56358400",
      "cell_type": "markdown",
      "source": "**Objetivos:**\n<l><li>Listar lenguajes populares para Ciencia de Datos </li><li>Listar Bibliotecas comúnmente utilizadas por los científicos de datos </li><li>Realizar tabla de herramientas de Ciencia de Datos </li><li>Realizar ejemplos de expresiones aritmeticas</li><li>Realizar ejemplo de conversion de minutos a horas</li></l>",
      "metadata": {}
    },
    {
      "id": "69126214-10b1-4c51-80ff-42fb4edc116b",
      "cell_type": "markdown",
      "source": "Algunos de los lenguajes populares que utilizan los científicos de datos son:\n<ol><li>Python </li>\n<li>R </li>\n<li>Julia </li></ol>\n",
      "metadata": {}
    },
    {
      "id": "5bf51d1f-05cf-4073-887f-450109a20eb9",
      "cell_type": "markdown",
      "source": "Algunas de las bibliotecas comúnmente utilizadas por los científicos de datos incluyen:\n<ol><li>Numpy </li>\n<li>Pandas </li>\n<li>Scikit-learn </li></ol>",
      "metadata": {}
    },
    {
      "id": "ebc9da9f-662e-4ddc-8b4f-12edc5bb6d7b",
      "cell_type": "markdown",
      "source": "## Herramientas de Ciencia de Datos\n|   Herramienta   |\n|-----------------|\n| Anaconda        |\n| RStudio         |\n|Jupyter Notebook |",
      "metadata": {}
    },
    {
      "id": "8a65a696-13e1-4d4f-a85a-fb857e5cf286",
      "cell_type": "markdown",
      "source": "### A continuación, se presentan algunos ejemplos de evaluación de expresiones aritméticas en Python\n",
      "metadata": {}
    },
    {
      "id": "4772eb8b-f756-427f-8039-2a2bf0d905b7",
      "cell_type": "code",
      "source": "# Esta es una expresión aritmética simple para multiplicar y luego sumar enteros\n(3*4)+5",
      "metadata": {
        "trusted": true
      },
      "outputs": [
        {
          "execution_count": 12,
          "output_type": "execute_result",
          "data": {
            "text/plain": "17"
          },
          "metadata": {}
        }
      ],
      "execution_count": 12
    },
    {
      "id": "40d4b261-850e-4a69-b9e1-d424c438aa2b",
      "cell_type": "code",
      "source": "# Esto convertirá 200 minutos a horas dividiendo por 60\n200/60",
      "metadata": {
        "trusted": true
      },
      "outputs": [
        {
          "execution_count": 14,
          "output_type": "execute_result",
          "data": {
            "text/plain": "3.3333333333333335"
          },
          "metadata": {}
        }
      ],
      "execution_count": 14
    },
    {
      "id": "79710dec-1f7f-4d52-b55d-f35b67c42dc7",
      "cell_type": "markdown",
      "source": "## Autor: \nJoaquin Elias Lopez Ilabaca",
      "metadata": {}
    }
  ]
}
